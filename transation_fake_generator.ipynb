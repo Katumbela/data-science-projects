{
 "cells": [
  {
   "cell_type": "code",
   "execution_count": 1,
   "id": "14ccc194-e544-4779-a5ee-682464902259",
   "metadata": {},
   "outputs": [],
   "source": [
    "from faker import Faker"
   ]
  },
  {
   "cell_type": "code",
   "execution_count": 3,
   "id": "5938aea4-4071-40f1-9e47-7ebe1c16b8c8",
   "metadata": {},
   "outputs": [
    {
     "name": "stdout",
     "output_type": "stream",
     "text": [
      "                         transaction_id    customer_name transaction_date  \\\n",
      "0  6df11cfc-5a15-43f4-85d1-2a23f0a816b3   Joseph Jackson       2024-03-22   \n",
      "1  e8ed7ed5-9c8d-46e7-aaae-ac5f1e5498c3       Dawn Irwin       2024-02-29   \n",
      "2  9736dae1-6ff4-4263-8060-200ed54b874e    Mary Hamilton       2024-06-12   \n",
      "3  f513e301-a5ee-4baa-90e3-ef3d6c295ed3    Colleen Moore       2024-06-14   \n",
      "4  3f13a790-e411-419e-9646-643832684a82  Shawn Armstrong       2024-07-22   \n",
      "\n",
      "   amount  is_fraud  \n",
      "0   72.25         0  \n",
      "1   80.24         0  \n",
      "2  191.53         1  \n",
      "3  448.70         0  \n",
      "4  389.74         0  \n"
     ]
    }
   ],
   "source": [
    "\n",
    "import pandas as pd\n",
    "import random\n",
    "\n",
    "\n",
    "faker = Faker()\n",
    "data = []\n",
    "\n",
    "# Gerar 1000 transações fictícias\n",
    "for _ in range(1000):\n",
    "    data.append({\n",
    "        'transaction_id': faker.uuid4(),\n",
    "        'customer_name': faker.name(),\n",
    "        'transaction_date': faker.date_this_year(),\n",
    "        'amount': round(random.uniform(10.0, 500.0), 2),\n",
    "        'is_fraud': random.choice([0, 1])  # 0 para transações normais, 1 para fraudes\n",
    "    })\n",
    "\n",
    "# Converter para DataFrame\n",
    "df = pd.DataFrame(data)\n",
    "df.to_csv('transacoes_ficticias.csv', index=False)\n",
    "print(df.head())"
   ]
  },
  {
   "cell_type": "code",
   "execution_count": 5,
   "id": "4a2aa207-9003-477a-8c63-40f03706c2b5",
   "metadata": {},
   "outputs": [],
   "source": [
    "df = pd.read_csv('transacoes_ficticias.csv')"
   ]
  },
  {
   "cell_type": "code",
   "execution_count": 6,
   "id": "3350f8da-586b-4aec-9b67-43d828cfba74",
   "metadata": {},
   "outputs": [
    {
     "name": "stdout",
     "output_type": "stream",
     "text": [
      "<bound method NDFrame.describe of                            transaction_id    customer_name transaction_date  \\\n",
      "0    6df11cfc-5a15-43f4-85d1-2a23f0a816b3   Joseph Jackson       2024-03-22   \n",
      "1    e8ed7ed5-9c8d-46e7-aaae-ac5f1e5498c3       Dawn Irwin       2024-02-29   \n",
      "2    9736dae1-6ff4-4263-8060-200ed54b874e    Mary Hamilton       2024-06-12   \n",
      "3    f513e301-a5ee-4baa-90e3-ef3d6c295ed3    Colleen Moore       2024-06-14   \n",
      "4    3f13a790-e411-419e-9646-643832684a82  Shawn Armstrong       2024-07-22   \n",
      "..                                    ...              ...              ...   \n",
      "995  3219c367-800f-42dd-910a-877364b22299    Robert Pierce       2024-05-20   \n",
      "996  125013d9-f182-494f-9d76-5bdf36a392f9  Brandon Roberts       2024-05-25   \n",
      "997  59fc6fe8-9462-4eb7-bee9-3e8851fa2513     Jerry Mosley       2024-09-12   \n",
      "998  df84a2f9-075f-4d0b-bfb2-53d9c0d57333     Carrie Clark       2024-07-26   \n",
      "999  5393c0a0-a9e5-4ee6-b774-0178098b02e5       Amy Riddle       2024-09-08   \n",
      "\n",
      "     amount  is_fraud  \n",
      "0     72.25         0  \n",
      "1     80.24         0  \n",
      "2    191.53         1  \n",
      "3    448.70         0  \n",
      "4    389.74         0  \n",
      "..      ...       ...  \n",
      "995  175.19         0  \n",
      "996  423.28         0  \n",
      "997  280.60         1  \n",
      "998  245.59         0  \n",
      "999  359.54         0  \n",
      "\n",
      "[1000 rows x 5 columns]>\n"
     ]
    }
   ],
   "source": [
    "print(df.describe)"
   ]
  },
  {
   "cell_type": "code",
   "execution_count": 7,
   "id": "bfc12861-7a93-4886-814b-223c742b2d91",
   "metadata": {},
   "outputs": [
    {
     "name": "stdout",
     "output_type": "stream",
     "text": [
      "                         transaction_id    customer_name transaction_date  \\\n",
      "0  6df11cfc-5a15-43f4-85d1-2a23f0a816b3   Joseph Jackson       2024-03-22   \n",
      "1  e8ed7ed5-9c8d-46e7-aaae-ac5f1e5498c3       Dawn Irwin       2024-02-29   \n",
      "2  9736dae1-6ff4-4263-8060-200ed54b874e    Mary Hamilton       2024-06-12   \n",
      "3  f513e301-a5ee-4baa-90e3-ef3d6c295ed3    Colleen Moore       2024-06-14   \n",
      "4  3f13a790-e411-419e-9646-643832684a82  Shawn Armstrong       2024-07-22   \n",
      "\n",
      "   amount  is_fraud  \n",
      "0   72.25         0  \n",
      "1   80.24         0  \n",
      "2  191.53         1  \n",
      "3  448.70         0  \n",
      "4  389.74         0  \n"
     ]
    }
   ],
   "source": [
    "print(df.head())"
   ]
  },
  {
   "cell_type": "code",
   "execution_count": 9,
   "id": "f7998d75-5241-473b-a11f-5fe55a6ec553",
   "metadata": {},
   "outputs": [
    {
     "name": "stdout",
     "output_type": "stream",
     "text": [
      "(1000, 5)\n"
     ]
    }
   ],
   "source": [
    "print(df.shape)"
   ]
  },
  {
   "cell_type": "code",
   "execution_count": 10,
   "id": "bbb9b89a-1802-4859-a3ac-00151995e00f",
   "metadata": {},
   "outputs": [
    {
     "name": "stdout",
     "output_type": "stream",
     "text": [
      "<class 'pandas.core.frame.DataFrame'>\n",
      "RangeIndex: 1000 entries, 0 to 999\n",
      "Data columns (total 5 columns):\n",
      " #   Column            Non-Null Count  Dtype  \n",
      "---  ------            --------------  -----  \n",
      " 0   transaction_id    1000 non-null   object \n",
      " 1   customer_name     1000 non-null   object \n",
      " 2   transaction_date  1000 non-null   object \n",
      " 3   amount            1000 non-null   float64\n",
      " 4   is_fraud          1000 non-null   int64  \n",
      "dtypes: float64(1), int64(1), object(3)\n",
      "memory usage: 39.2+ KB\n",
      "None\n"
     ]
    }
   ],
   "source": [
    "print(df.info())"
   ]
  },
  {
   "cell_type": "code",
   "execution_count": 11,
   "id": "5a8b2157-ec8d-407c-b656-1347f384568d",
   "metadata": {},
   "outputs": [],
   "source": [
    "import seaborn as sns"
   ]
  },
  {
   "cell_type": "code",
   "execution_count": 13,
   "id": "b7aefc16-9758-4dfc-8f65-644096aa755f",
   "metadata": {},
   "outputs": [
    {
     "data": {
      "text/plain": [
       "<Axes: xlabel='customer_name', ylabel='Count'>"
      ]
     },
     "execution_count": 13,
     "metadata": {},
     "output_type": "execute_result"
    },
    {
     "data": {
      "image/png": "[encoded data removed]",
      "text/plain": [
       "<Figure size 640x480 with 1 Axes>"
      ]
     },
     "metadata": {},
     "output_type": "display_data"
    }
   ],
   "source": [
    "sns.histplot(df['customer_name'], bins=30)  # Histograma para verificar a distribuição"
   ]
  },
  {
   "cell_type": "code",
   "execution_count": 14,
   "id": "8f34063d-fedd-4339-b328-a8ce2a4b6d92",
   "metadata": {},
   "outputs": [
    {
     "data": {
      "text/plain": [
       "<Axes: xlabel='amount', ylabel='Count'>"
      ]
     },
     "execution_count": 14,
     "metadata": {},
     "output_type": "execute_result"
    },
    {
     "data": {
      "image/png": "[encoded data removed]",
      "text/plain": [
       "<Figure size 640x480 with 1 Axes>"
      ]
     },
     "metadata": {},
     "output_type": "display_data"
    }
   ],
   "source": [
    "sns.histplot(df['amount'], bins=30)  # Histograma para verificar a distribuição"
   ]
  },
  {
   "cell_type": "code",
   "execution_count": 15,
   "id": "0576440c-d477-4520-98e7-54a607485c6e",
   "metadata": {},
   "outputs": [
    {
     "data": {
      "text/plain": [
       "<Axes: xlabel='is_fraud', ylabel='Count'>"
      ]
     },
     "execution_count": 15,
     "metadata": {},
     "output_type": "execute_result"
    },
    {
     "data": {
      "image/png": "[encoded data removed]",
      "text/plain": [
       "<Figure size 640x480 with 1 Axes>"
      ]
     },
     "metadata": {},
     "output_type": "display_data"
    }
   ],
   "source": [
    "sns.histplot(df['is_fraud'], bins=30)  # Histograma para verificar a distribuição"
   ]
  },
  {
   "cell_type": "code",
   "execution_count": null,
   "id": "2eff7f33-9a80-4801-80a1-f59fea024285",
   "metadata": {},
   "outputs": [],
   "source": []
  }
 ],
 "metadata": {
  "kernelspec": {
   "display_name": "Python 3 (ipykernel)",
   "language": "python",
   "name": "python3"
  },
  "language_info": {
   "codemirror_mode": {
    "name": "ipython",
    "version": 3
   },
   "file_extension": ".py",
   "mimetype": "text/x-python",
   "name": "python",
   "nbconvert_exporter": "python",
   "pygments_lexer": "ipython3",
   "version": "3.12.4"
  }
 },
 "nbformat": 4,
 "nbformat_minor": 5
}
