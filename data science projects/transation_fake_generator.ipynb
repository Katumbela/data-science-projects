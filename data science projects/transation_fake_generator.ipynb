{
 "cells": [
  {
   "cell_type": "code",
   "execution_count": 1,
   "id": "14ccc194-e544-4779-a5ee-682464902259",
   "metadata": {},
   "outputs": [],
   "source": [
    "from faker import Faker"
   ]
  },
  {
   "cell_type": "code",
   "execution_count": 3,
   "id": "5938aea4-4071-40f1-9e47-7ebe1c16b8c8",
   "metadata": {},
   "outputs": [
    {
     "name": "stdout",
     "output_type": "stream",
     "text": [
      "                         transaction_id    customer_name transaction_date  \\\n",
      "0  6df11cfc-5a15-43f4-85d1-2a23f0a816b3   Joseph Jackson       2024-03-22   \n",
      "1  e8ed7ed5-9c8d-46e7-aaae-ac5f1e5498c3       Dawn Irwin       2024-02-29   \n",
      "2  9736dae1-6ff4-4263-8060-200ed54b874e    Mary Hamilton       2024-06-12   \n",
      "3  f513e301-a5ee-4baa-90e3-ef3d6c295ed3    Colleen Moore       2024-06-14   \n",
      "4  3f13a790-e411-419e-9646-643832684a82  Shawn Armstrong       2024-07-22   \n",
      "\n",
      "   amount  is_fraud  \n",
      "0   72.25         0  \n",
      "1   80.24         0  \n",
      "2  191.53         1  \n",
      "3  448.70         0  \n",
      "4  389.74         0  \n"
     ]
    }
   ],
   "source": [
    "\n",
    "import pandas as pd\n",
    "import random\n",
    "\n",
    "\n",
    "faker = Faker()\n",
    "data = []\n",
    "\n",
    "# Gerar 1000 transações fictícias\n",
    "for _ in range(1000):\n",
    "    data.append({\n",
    "        'transaction_id': faker.uuid4(),\n",
    "        'customer_name': faker.name(),\n",
    "        'transaction_date': faker.date_this_year(),\n",
    "        'amount': round(random.uniform(10.0, 500.0), 2),\n",
    "        'is_fraud': random.choice([0, 1])  # 0 para transações normais, 1 para fraudes\n",
    "    })\n",
    "\n",
    "# Converter para DataFrame\n",
    "df = pd.DataFrame(data)\n",
    "df.to_csv('transacoes_ficticias.csv', index=False)\n",
    "print(df.head())"
   ]
  },
  {
   "cell_type": "code",
   "execution_count": null,
   "id": "4a2aa207-9003-477a-8c63-40f03706c2b5",
   "metadata": {},
   "outputs": [],
   "source": []
  }
 ],
 "metadata": {
  "kernelspec": {
   "display_name": "Python 3 (ipykernel)",
   "language": "python",
   "name": "python3"
  },
  "language_info": {
   "codemirror_mode": {
    "name": "ipython",
    "version": 3
   },
   "file_extension": ".py",
   "mimetype": "text/x-python",
   "name": "python",
   "nbconvert_exporter": "python",
   "pygments_lexer": "ipython3",
   "version": "3.12.4"
  }
 },
 "nbformat": 4,
 "nbformat_minor": 5
}
