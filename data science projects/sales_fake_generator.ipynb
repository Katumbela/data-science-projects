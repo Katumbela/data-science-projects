{
 "cells": [
  {
   "cell_type": "code",
   "execution_count": 1,
   "id": "5f810c70-690d-407b-ae37-4dce9d0760f8",
   "metadata": {},
   "outputs": [],
   "source": [
    "import pandas as pd\n",
    "import numpy as np"
   ]
  },
  {
   "cell_type": "code",
   "execution_count": 3,
   "id": "04d4168c-0492-4d60-87ef-720e854f52a7",
   "metadata": {},
   "outputs": [
    {
     "name": "stdout",
     "output_type": "stream",
     "text": [
      "        date        sales\n",
      "0 2023-01-01  2242.500517\n",
      "1 2023-01-02  -769.503543\n",
      "2 2023-01-03  -589.388914\n",
      "3 2023-01-04   382.407613\n",
      "4 2023-01-05  -864.727901\n"
     ]
    }
   ],
   "source": [
    "# Gerar datas para 1 ano\n",
    "dates = pd.date_range('2023-01-01', periods=365, freq='D')\n",
    "\n",
    "# Gerar vendas fictícias com um padrão sazonal\n",
    "sales = 50 + 10 * np.sin(2 * np.pi * dates.dayofyear / 365) + np.random.randn(365) * 1000\n",
    "\n",
    "# Criar DataFrame\n",
    "df = pd.DataFrame({'date': dates, 'sales': sales})\n",
    "df.to_csv('sales_fictitious.csv', index=False)\n",
    "print(df.head())"
   ]
  },
  {
   "cell_type": "code",
   "execution_count": 4,
   "id": "8c574686-b6f6-43bf-b557-ef6fe7543d69",
   "metadata": {},
   "outputs": [],
   "source": [
    "from faker import Faker"
   ]
  },
  {
   "cell_type": "code",
   "execution_count": null,
   "id": "ed493dca-3d26-4998-bfb4-12b62a858fb1",
   "metadata": {},
   "outputs": [],
   "source": []
  }
 ],
 "metadata": {
  "kernelspec": {
   "display_name": "Python 3 (ipykernel)",
   "language": "python",
   "name": "python3"
  },
  "language_info": {
   "codemirror_mode": {
    "name": "ipython",
    "version": 3
   },
   "file_extension": ".py",
   "mimetype": "text/x-python",
   "name": "python",
   "nbconvert_exporter": "python",
   "pygments_lexer": "ipython3",
   "version": "3.12.4"
  }
 },
 "nbformat": 4,
 "nbformat_minor": 5
}
